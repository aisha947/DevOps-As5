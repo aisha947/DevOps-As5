{
 "cells": [
  {
   "cell_type": "code",
   "execution_count": 19,
   "id": "91464302",
   "metadata": {},
   "outputs": [
    {
     "name": "stdout",
     "output_type": "stream",
     "text": [
      "scikit-learn version: 1.3.2\n",
      "1.2.0\n"
     ]
    }
   ],
   "source": [
    "import sklearn\n",
    "\n",
    "print(\"scikit-learn version:\", sklearn.__version__)\n",
    "import joblib\n",
    "print(joblib.__version__)"
   ]
  },
  {
   "cell_type": "code",
   "execution_count": 17,
   "id": "f917192f",
   "metadata": {},
   "outputs": [
    {
     "data": {
      "text/plain": [
       "['model_min.joblib']"
      ]
     },
     "execution_count": 17,
     "metadata": {},
     "output_type": "execute_result"
    }
   ],
   "source": [
    "import pandas as pd\n",
    "from sklearn.model_selection import train_test_split\n",
    "from sklearn.linear_model import LinearRegression\n",
    "import joblib\n",
    "\n",
    "# Load the dataset\n",
    "df = pd.read_csv('year_lahore_weather_data.csv')\n",
    "\n",
    "# Assuming 'Humidity' and 'Wind_Speed' are features used for prediction\n",
    "X_max = df[['Humidity', 'Wind_Speed']]\n",
    "y_max = df['Max_Temperature']\n",
    "\n",
    "X_min = df[['Humidity', 'Wind_Speed']]\n",
    "y_min = df['Min_Temperature']\n",
    "\n",
    "# Split the data into training and testing sets\n",
    "X_max_train, X_max_test, y_max_train, y_max_test = train_test_split(X_max, y_max, test_size=0.2, random_state=42)\n",
    "X_min_train, X_min_test, y_min_train, y_min_test = train_test_split(X_min, y_min, test_size=0.2, random_state=42)\n",
    "\n",
    "# Train the models\n",
    "model_max = LinearRegression()\n",
    "model_max.fit(X_max_train, y_max_train)\n",
    "\n",
    "model_min = LinearRegression()\n",
    "model_min.fit(X_min_train, y_min_train)\n",
    "\n",
    "# Evaluate the models if needed\n",
    "# ...\n",
    "\n",
    "# Save the trained models\n",
    "joblib.dump(model_max, 'model_max.joblib')\n",
    "joblib.dump(model_min, 'model_min.joblib')\n"
   ]
  },
  {
   "cell_type": "code",
   "execution_count": null,
   "id": "1b69cf17",
   "metadata": {},
   "outputs": [],
   "source": []
  }
 ],
 "metadata": {
  "kernelspec": {
   "display_name": "Python 3 (ipykernel)",
   "language": "python",
   "name": "python3"
  },
  "language_info": {
   "codemirror_mode": {
    "name": "ipython",
    "version": 3
   },
   "file_extension": ".py",
   "mimetype": "text/x-python",
   "name": "python",
   "nbconvert_exporter": "python",
   "pygments_lexer": "ipython3",
   "version": "3.11.5"
  }
 },
 "nbformat": 4,
 "nbformat_minor": 5
}
