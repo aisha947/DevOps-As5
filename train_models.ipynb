{
 "cells": [
  {
   "cell_type": "code",
   "execution_count": 6,
   "id": "4aa07af7",
   "metadata": {},
   "outputs": [
    {
     "name": "stdout",
     "output_type": "stream",
     "text": [
      "Mean Squared Error for Max_Temperature: 23.874669140224587\n",
      "Mean Squared Error for Min_Temperature: 14.463464927608484\n"
     ]
    },
    {
     "data": {
      "text/plain": [
       "['min_t_model.joblib']"
      ]
     },
     "execution_count": 6,
     "metadata": {},
     "output_type": "execute_result"
    }
   ],
   "source": [
    "# train_models.py\n",
    "\n",
    "import pandas as pd\n",
    "from sklearn.model_selection import train_test_split\n",
    "from sklearn.ensemble import RandomForestRegressor\n",
    "from sklearn.metrics import mean_squared_error\n",
    "from sklearn.compose import ColumnTransformer\n",
    "from sklearn.pipeline import Pipeline\n",
    "from sklearn.preprocessing import OneHotEncoder\n",
    "import joblib\n",
    "\n",
    "dataset = pd.read_csv('year_lahore_weather_data.csv')\n",
    "\n",
    "# Extract features and targets\n",
    "features = dataset[['Humidity', 'Wind_Speed', 'Weather_Condition']]\n",
    "target_max_t = dataset['Max_Temperature']\n",
    "target_min_t = dataset['Min_Temperature']\n",
    "\n",
    "# Define the transformer for one-hot encoding 'Weather_Condition'\n",
    "preprocessor = ColumnTransformer(\n",
    "    transformers=[\n",
    "        ('weather', OneHotEncoder(), ['Weather_Condition'])\n",
    "    ],\n",
    "    remainder='passthrough'\n",
    ")\n",
    "\n",
    "# Combine the preprocessor with the model in a pipeline\n",
    "max_t_model = Pipeline([\n",
    "    ('preprocessor', preprocessor),\n",
    "    ('regressor', RandomForestRegressor(n_estimators=100, random_state=42))\n",
    "])\n",
    "\n",
    "# Split the data into training and testing sets\n",
    "X_train, X_test, y_train_max_t, y_test_max_t = train_test_split(\n",
    "    features, target_max_t, test_size=0.2, random_state=42\n",
    ")\n",
    "\n",
    "# Train the model for max_t\n",
    "max_t_model.fit(X_train, y_train_max_t)\n",
    "\n",
    "# Evaluate the model for max_t\n",
    "y_pred_max_t = max_t_model.predict(X_test)\n",
    "mse_max_t = mean_squared_error(y_test_max_t, y_pred_max_t)\n",
    "print(f'Mean Squared Error for Max_Temperature: {mse_max_t}')\n",
    "\n",
    "# Save the trained model for max_t\n",
    "joblib.dump(max_t_model, 'max_t_model.joblib')\n",
    "\n",
    "# Split the data into training and testing sets for min_t\n",
    "X_train, X_test, y_train_min_t, y_test_min_t = train_test_split(\n",
    "    features, target_min_t, test_size=0.2, random_state=42\n",
    ")\n",
    "\n",
    "# Train the model for min_t\n",
    "min_t_model = Pipeline([\n",
    "    ('preprocessor', preprocessor),\n",
    "    ('regressor', RandomForestRegressor(n_estimators=100, random_state=42))\n",
    "])\n",
    "\n",
    "min_t_model.fit(X_train, y_train_min_t)\n",
    "\n",
    "# Evaluate the model for min_t\n",
    "y_pred_min_t = min_t_model.predict(X_test)\n",
    "mse_min_t = mean_squared_error(y_test_min_t, y_pred_min_t)\n",
    "print(f'Mean Squared Error for Min_Temperature: {mse_min_t}')\n",
    "\n",
    "# Save the trained model for min_t\n",
    "joblib.dump(min_t_model, 'min_t_model.joblib')\n"
   ]
  }
 ],
 "metadata": {
  "kernelspec": {
   "display_name": "Python 3 (ipykernel)",
   "language": "python",
   "name": "python3"
  },
  "language_info": {
   "codemirror_mode": {
    "name": "ipython",
    "version": 3
   },
   "file_extension": ".py",
   "mimetype": "text/x-python",
   "name": "python",
   "nbconvert_exporter": "python",
   "pygments_lexer": "ipython3",
   "version": "3.11.5"
  }
 },
 "nbformat": 4,
 "nbformat_minor": 5
}
